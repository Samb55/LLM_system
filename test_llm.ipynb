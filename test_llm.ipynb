{
 "cells": [
  {
   "cell_type": "code",
   "execution_count": 5,
   "metadata": {},
   "outputs": [
    {
     "name": "stdout",
     "output_type": "stream",
     "text": [
      "ChatCompletionMessage(content='Good evening, Dr. Xiao. I wanted to kindly remind you about the MDPI proofreading. Your assistance in this matter would be greatly appreciated.', role='assistant', function_call=None, tool_calls=None)\n"
     ]
    }
   ],
   "source": [
    "from openai import OpenAI\n",
    "client = OpenAI()\n",
    "\n",
    "user_input = input(\"What is your question? \")\n",
    "completion = client.chat.completions.create(\n",
    "  model=\"gpt-3.5-turbo\",\n",
    "  messages=[\n",
    "    {\"role\": \"system\", \"content\": \"You are a personal assistant helping me to answer my questoins.\"},\n",
    "    {\"role\": \"user\", \"content\":user_input},\n",
    "  ]\n",
    ")\n",
    "\n",
    "print(completion.choices[0].message)"
   ]
  },
  {
   "cell_type": "code",
   "execution_count": 1,
   "metadata": {},
   "outputs": [
    {
     "name": "stderr",
     "output_type": "stream",
     "text": [
      "d:\\Projects\\miniconda\\envs\\tf\\Lib\\site-packages\\tqdm\\auto.py:21: TqdmWarning: IProgress not found. Please update jupyter and ipywidgets. See https://ipywidgets.readthedocs.io/en/stable/user_install.html\n",
      "  from .autonotebook import tqdm as notebook_tqdm\n"
     ]
    }
   ],
   "source": [
    "import pathlib\n",
    "import textwrap\n",
    "\n",
    "import google.generativeai as genai\n",
    "\n",
    "# Used to securely store your API key\n",
    "# from google.colab import userdata\n",
    "import os\n",
    "from IPython.display import display\n",
    "from IPython.display import Markdown\n",
    "\n",
    "\n",
    "def to_markdown(text):\n",
    "  text = text.replace('•', '  *')\n",
    "  return Markdown(textwrap.indent(text, '> ', predicate=lambda _: True))"
   ]
  },
  {
   "cell_type": "code",
   "execution_count": 2,
   "metadata": {},
   "outputs": [],
   "source": [
    "GOOGLE_API_KEY=os.getenv('GOOGLE_API_KEY')\n",
    "\n",
    "genai.configure(api_key=GOOGLE_API_KEY)"
   ]
  },
  {
   "cell_type": "code",
   "execution_count": 3,
   "metadata": {},
   "outputs": [],
   "source": [
    "model = genai.GenerativeModel('gemini-pro')"
   ]
  },
  {
   "cell_type": "code",
   "execution_count": 10,
   "metadata": {},
   "outputs": [],
   "source": [
    "response = model.generate_content(\"What is the meaning of life?\", stream=True)"
   ]
  },
  {
   "cell_type": "code",
   "execution_count": 11,
   "metadata": {},
   "outputs": [
    {
     "name": "stdout",
     "output_type": "stream",
     "text": [
      "The meaning of life is a complex and multifaceted question that has been pondered by philosophers\n",
      "________________________________________________________________________________\n",
      ", theologians, and individuals throughout history. There is no one definitive answer that satisfies everyone, as the meaning of life is often subjective and deeply personal. However,\n",
      "________________________________________________________________________________\n",
      " some common themes and perspectives that have emerged in discussions about the meaning of life include:\n",
      "\n",
      "1. **Purpose and Fulfillment:** One common perspective is that the meaning of life lies in finding a sense of purpose and fulfillment through our actions and endeavors. This could involve pursuing personal goals, contributing to society, or engaging in activities\n",
      "________________________________________________________________________________\n",
      " that bring us joy and satisfaction.\n",
      "\n",
      "2. **Relationships and Connection:** Many people find meaning in their relationships with others, including family, friends, and loved ones. Building strong and meaningful connections with others can provide a sense of belonging, support, and purpose.\n",
      "\n",
      "3. **Learning and Growth:** The pursuit of knowledge and personal growth can also be a source of meaning for many individuals. Whether through formal education, personal experiences, or self-exploration, learning can help us expand our understanding of the world and ourselves, leading to a deeper sense of meaning.\n",
      "\n",
      "4. **Contribution to Society:** Some individuals find meaning in making a\n",
      "________________________________________________________________________________\n",
      " positive contribution to their community or society as a whole. This could involve volunteering, advocacy, or working in a field that aligns with their values and beliefs.\n",
      "\n",
      "5. **Experiencing and Appreciating Life:** For some, the meaning of life lies in simply experiencing and appreciating the present moment. This could involve practicing mindfulness, savoring life's simple pleasures, or engaging in activities that bring joy and wonder.\n",
      "\n",
      "6. **Spiritual or Religious Beliefs:** Many people find meaning and purpose in their spiritual or religious beliefs. For some, this may involve following a particular religion or set of spiritual practices, while for others, it may involve a more personal and individual connection to a higher power.\n",
      "\n",
      "7. **Creating a Legacy:** Some individuals find meaning in the idea of leaving a lasting legacy through their work, accomplishments, or impact on others. This could involve creating art, writing books, raising a family, or making a difference in the world.\n",
      "\n",
      "Ultimately, the meaning of life is a personal journey that each individual must define for themselves. It can involve a combination of the above perspectives or something entirely unique. There is no right or wrong answer, and the meaning of life can evolve and change over time as we grow and change as individuals.\n",
      "________________________________________________________________________________\n"
     ]
    }
   ],
   "source": [
    "to_markdown(response.text)"
   ]
  },
  {
   "cell_type": "code",
   "execution_count": null,
   "metadata": {},
   "outputs": [],
   "source": []
  }
 ],
 "metadata": {
  "kernelspec": {
   "display_name": "tf",
   "language": "python",
   "name": "python3"
  },
  "language_info": {
   "codemirror_mode": {
    "name": "ipython",
    "version": 3
   },
   "file_extension": ".py",
   "mimetype": "text/x-python",
   "name": "python",
   "nbconvert_exporter": "python",
   "pygments_lexer": "ipython3",
   "version": "3.11.5"
  }
 },
 "nbformat": 4,
 "nbformat_minor": 2
}
